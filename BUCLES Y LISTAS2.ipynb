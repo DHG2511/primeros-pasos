{
  "nbformat": 4,
  "nbformat_minor": 0,
  "metadata": {
    "colab": {
      "provenance": [],
      "authorship_tag": "ABX9TyOAJAT88xtGxM6li+lGdINS",
      "include_colab_link": true
    },
    "kernelspec": {
      "name": "python3",
      "display_name": "Python 3"
    },
    "language_info": {
      "name": "python"
    }
  },
  "cells": [
    {
      "cell_type": "markdown",
      "metadata": {
        "id": "view-in-github",
        "colab_type": "text"
      },
      "source": [
        "<a href=\"https://colab.research.google.com/github/DHG2511/primeros-pasos/blob/main/BUCLES%20Y%20LISTAS2.ipynb\" target=\"_parent\"><img src=\"https://colab.research.google.com/assets/colab-badge.svg\" alt=\"Open In Colab\"/></a>"
      ]
    },
    {
      "cell_type": "code",
      "source": [
        "    # Ejercicio#67 Desglose de un monto determinado\n",
        "    monto = int(input(\"Digita el monto: \"))\n",
        "    print()\n",
        " \n",
        "    b100000 = monto//100000\n",
        "    monto %= 100000\n",
        "    b50000 = monto//50000\n",
        "    monto %= 50000\n",
        "    b20000 = monto//20000\n",
        "    monto %= 20000 \n",
        "    b10000 = monto//10000\n",
        "    monto %= 10000\n",
        "    b5000 = monto//5000\n",
        "    monto %= 5000\n",
        "    b2000 = monto//2000\n",
        "    monto %= 2000\n",
        "    b1000 = monto//1000\n",
        "    monto %= 1000\n",
        "    b500 = monto//500\n",
        "    monto %= 500\n",
        "    b200 = monto//200\n",
        "    monto %= 200\n",
        "    b100 = monto//100\n",
        "    monto %= 100\n",
        "    b50 = monto//50\n",
        "    monto %= 50\n",
        "\n",
        "    b20 = monto//20\n",
        "    monto %= 20\n",
        "    b10 = monto//10\n",
        "    monto %= 10\n",
        "    b5 = monto//5\n",
        "    monto %= 5\n",
        "    m2 = monto//2\n",
        "    monto %= 2\n",
        "    m1 = monto//1\n",
        "    monto %= 1\n",
        "    print(f\"{b500} billete de 500\")\n",
        "    print(f\"{b200} billete de 200\")\n",
        "    print(f\"{b100} billete de 100\")\n",
        "    print(f\"{b50} billete de 50\")\n",
        "    print(f\"{b20} billete de 20\")\n",
        "    print(f\"{b10} billete de 10\")\n",
        "    print(f\"{b5} billete de 5\")\n",
        "    print(f\"{m2} monedas de 2\")\n",
        "    print(f\"{m1} monedas de 1\")"
      ],
      "metadata": {
        "colab": {
          "base_uri": "https://localhost:8080/"
        },
        "id": "r6YknDOTrZG6",
        "outputId": "27e4af79-8bb3-41f1-ed91-cea34ce4459a"
      },
      "execution_count": 13,
      "outputs": [
        {
          "output_type": "stream",
          "name": "stdout",
          "text": [
            "Digita el monto: 159000\n",
            "\n",
            "318 billete de 500\n",
            "0 billete de 200\n",
            "0 billete de 100\n",
            "0 billete de 50\n",
            "0 billete de 20\n",
            "0 billete de 10\n",
            "0 billete de 5\n",
            "0 monedas de 2\n",
            "0 monedas de 1\n"
          ]
        }
      ]
    },
    {
      "cell_type": "code",
      "source": [
        "saldo = int(input('Ingresar monto a pagar: '))\n",
        "tipos = (\n",
        "    (100000,\"billete\"),\n",
        "    (50000,\"billete\"),\n",
        "    (20000,\"billete\"),\n",
        "    (10000,\"billete\"),\n",
        "    (5000,\"billete\"),\n",
        "    (2000,\"billete\"),\n",
        "    (1000,\"billete\"),\n",
        "    (500,\"moneda\"),\n",
        "    (200,\"moneda\")\n",
        "    #(100,\"moneda\")\n",
        "    #(50,\"moneda\")\n",
        "        )\n",
        " \n",
        "for tipo in tipos:\n",
        "    valor=tipo[0]\n",
        "    descripcion=tipo[1]\n",
        "    s=lambda valor,text: valor > 1 and text+\"s\" or text\n",
        "    \n",
        "    if saldo/valor>0:\n",
        "        print(\"%d %s de %d\" % ((saldo / valor), s((saldo / valor),descripcion), valor))\n",
        "        # cogemos el resto de la division\n",
        "        saldo = saldo % valor\n"
      ],
      "metadata": {
        "colab": {
          "base_uri": "https://localhost:8080/"
        },
        "id": "r8SEblrQh3tg",
        "outputId": "859361f2-c461-4587-c4d1-fc321b66dd83"
      },
      "execution_count": 12,
      "outputs": [
        {
          "output_type": "stream",
          "name": "stdout",
          "text": [
            "Ingresar monto a pagar: 178600\n",
            "1 billetes de 100000\n",
            "1 billetes de 50000\n",
            "1 billetes de 20000\n",
            "0 billete de 10000\n",
            "1 billetes de 5000\n",
            "1 billetes de 2000\n",
            "1 billetes de 1000\n",
            "1 monedas de 500\n",
            "0 moneda de 200\n"
          ]
        }
      ]
    },
    {
      "cell_type": "code",
      "execution_count": null,
      "metadata": {
        "colab": {
          "base_uri": "https://localhost:8080/"
        },
        "id": "I4grjmhXaqJL",
        "outputId": "7b30960b-206e-4b98-e90e-693d32d81523"
      },
      "outputs": [
        {
          "output_type": "stream",
          "name": "stdout",
          "text": [
            "ingrese la cantidad de materias: 4\n",
            "ingrese el nombre de la materia 1: fisica\n",
            "ingrese el nombre de la materia 2: calculo\n",
            "ingrese el nombre de la materia 3: prog aplicada\n",
            "ingrese el nombre de la materia 4: etica\n",
            "['fisica', 'calculo', 'prog aplicada', 'etica']\n",
            "ingrese la nota que espera de fisica: 5\n",
            "ingrese la nota que espera de calculo: 4.2\n",
            "ingrese la nota que espera de prog aplicada: 5\n",
            "ingrese la nota que espera de etica: 2.3\n",
            "[5.0, 4.2, 5.0, 2.3]\n",
            "Materias aprobadas:  ['fisica', 'calculo', 'prog aplicada']\n",
            "Materias reprobadas:  ['etica']\n"
          ]
        }
      ],
      "source": [
        "#lista de materias\n",
        "\n",
        "listamaterias=[]\n",
        "num_materias=int(input('ingrese la cantidad de materias: '))\n",
        "for i in range(num_materias):\n",
        "  materia=input('ingrese el nombre de la materia '+ str(i+1) + \": \")\n",
        "  listamaterias.append(materia)\n",
        "print(listamaterias)\n",
        "\n",
        "#notas esperadas para las materias\n",
        "\n",
        "Notas= []\n",
        "for i in range(len(listamaterias)):\n",
        "  while True:\n",
        "    nota=float(input(\"ingrese la nota que espera de \" + listamaterias[i]+ \": \"))\n",
        "    if nota>5 or nota<0:\n",
        "      print(\"No es una nota valida\")\n",
        "    else:\n",
        "      Notas.append(nota)\n",
        "      break\n",
        "print(Notas)\n",
        "\n",
        "#materias aprobadas o reprobadas\n",
        "\n",
        "aprobadas= []\n",
        "reprobadas= []\n",
        "\n",
        "for i in range(len(listamaterias)):\n",
        "  if Notas[i]<3:\n",
        "    reprobadas.append(listamaterias[i])\n",
        "  else:\n",
        "    aprobadas.append(listamaterias[i])\n",
        "   \n",
        "print(\"Materias aprobadas: \", aprobadas)\n",
        "print(\"Materias reprobadas: \", reprobadas)\n"
      ]
    },
    {
      "cell_type": "code",
      "source": [
        "#https://misfragmentosdecodigo.eu/palindromos-con-python/\n",
        "\n",
        "igual, aux = 0, 0\n",
        "texto = input(\"Ingrese la palabra que desea evaluar: \")\n",
        "for i in reversed(range(0, len(texto))):\n",
        "\n",
        "  if len(texto) == igual:\n",
        "     print(\"El texto es palindromo!\")\n",
        "  else:\n",
        "    print(\"El texto no es palindromo!\")"
      ],
      "metadata": {
        "colab": {
          "base_uri": "https://localhost:8080/"
        },
        "id": "YylosH3EqCFv",
        "outputId": "b043eaec-64b5-44ba-fa02-73b051c1bbac"
      },
      "execution_count": null,
      "outputs": [
        {
          "output_type": "stream",
          "name": "stdout",
          "text": [
            "Ingrese la palabra que desea evaluar: anita lava la tina\n",
            "El texto no es palindromo!\n",
            "El texto no es palindromo!\n",
            "El texto no es palindromo!\n",
            "El texto no es palindromo!\n",
            "El texto no es palindromo!\n",
            "El texto no es palindromo!\n",
            "El texto no es palindromo!\n",
            "El texto no es palindromo!\n",
            "El texto no es palindromo!\n",
            "El texto no es palindromo!\n",
            "El texto no es palindromo!\n",
            "El texto no es palindromo!\n",
            "El texto no es palindromo!\n",
            "El texto no es palindromo!\n",
            "El texto no es palindromo!\n",
            "El texto no es palindromo!\n",
            "El texto no es palindromo!\n",
            "El texto no es palindromo!\n"
          ]
        }
      ]
    }
  ]
}