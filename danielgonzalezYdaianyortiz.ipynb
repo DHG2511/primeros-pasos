{
  "cells": [
    {
      "cell_type": "markdown",
      "metadata": {
        "id": "view-in-github",
        "colab_type": "text"
      },
      "source": [
        "<a href=\"https://colab.research.google.com/github/DHG2511/primeros-pasos/blob/main/danielgonzalezYdaianyortiz.ipynb\" target=\"_parent\"><img src=\"https://colab.research.google.com/assets/colab-badge.svg\" alt=\"Open In Colab\"/></a>"
      ]
    },
    {
      "cell_type": "code",
      "source": [
        "Pass=\"400A\"\n",
        "\n",
        "cont=1\n",
        "\n",
        "nombre=input(\"ingresar contraseña\")\n",
        "\n",
        "while Pass!=nombre and cont<=3:\n",
        "\n",
        "          nombre=input(\"ingresar contraseña\") \n",
        "\n",
        "          cont=cont+1\n",
        "\n",
        "if cont<=3:\n",
        "\n",
        "          print(\"acceso permitido\")\n",
        "\n",
        "else:\n",
        "\n",
        "          print(\"acceso denegado\")\n",
        "\n",
        "print(\"llegaste a la vez\",cont)"
      ],
      "metadata": {
        "colab": {
          "base_uri": "https://localhost:8080/"
        },
        "id": "nJjxSQACfO1l",
        "outputId": "c592b5e5-c462-49b5-de1f-232b7be618da"
      },
      "execution_count": null,
      "outputs": [
        {
          "output_type": "stream",
          "name": "stdout",
          "text": [
            "ingresar contraseña400A\n",
            "acceso permitido\n",
            "llegaste a la vez 1\n"
          ]
        }
      ]
    },
    {
      "cell_type": "code",
      "source": [
        "anum = None\n",
        "while num != 0:\n",
        "    num = int(input('Introduce un número: '))"
      ],
      "metadata": {
        "id": "jqLSbQ7KZpHi",
        "outputId": "1978414d-ea23-46b6-afca-74671c1c3e50",
        "colab": {
          "base_uri": "https://localhost:8080/"
        }
      },
      "execution_count": null,
      "outputs": [
        {
          "name": "stdout",
          "output_type": "stream",
          "text": [
            "Introduce un número: 7\n",
            "Introduce un número: 7\n",
            "Introduce un número: 45\n",
            "Introduce un número: 0\n"
          ]
        }
      ]
    },
    {
      "cell_type": "code",
      "source": [
        "pwd= \"abc123\"\n",
        "cont= input(\"Ingrese la contraseña\")\n",
        "while (cont):\n",
        "  if (cont != pwd):\n",
        "    print (\"Contraseña incorrecta\")\n",
        "  else: \n",
        "     print (\"Bienvenido\")\n",
        "  break \n",
        "\n"
      ],
      "metadata": {
        "id": "oV1iYOrgXJN7",
        "outputId": "374e6b81-b031-4f35-d4e9-7520c67cc9a6",
        "colab": {
          "base_uri": "https://localhost:8080/"
        }
      },
      "execution_count": null,
      "outputs": [
        {
          "output_type": "stream",
          "name": "stdout",
          "text": [
            "Ingrese la contraseñahyhgythjyt\n",
            "Contraseña incorrecta\n"
          ]
        }
      ]
    },
    {
      "cell_type": "code",
      "source": [
        "from datetime import datetime, timedelta\n",
        "import calendar\n",
        "curr_date = datetime.now()\n",
        "curr_date = curr_date - timedelta(hours=5)\n",
        "print(curr_date.strftime(\"%H:%M:%S\"))\n",
        "\n",
        "print(calendar.day_name[curr_date.weekday()])\n",
        "if (calendar.day_name[curr_date.weekday()]== 'Tuesday') or (calendar.day_name[curr_date.weekday()]== 'Thursday'):\n",
        " print (\"Hoy hay clase\") \n",
        "else: \n",
        "  print (\"Hoy no hay clase\")"
      ],
      "metadata": {
        "id": "HnD2jBDVTc4h",
        "outputId": "b8efce4d-5894-4974-ebb6-05f040a211e2",
        "colab": {
          "base_uri": "https://localhost:8080/"
        }
      },
      "execution_count": null,
      "outputs": [
        {
          "output_type": "stream",
          "name": "stdout",
          "text": [
            "18:35:22\n",
            "Thursday\n",
            "Hoy hay clase\n"
          ]
        }
      ]
    },
    {
      "cell_type": "markdown",
      "source": [],
      "metadata": {
        "id": "KCemgUZ7LS2K"
      }
    },
    {
      "cell_type": "code",
      "source": [
        "intervalo = int (input(\"Defina el inicio de la muestra\"))\n",
        "intervalo2= int (input (\"Defina el fin de la muestra\"))\n",
        "if (intervalo>intervalo2):\n",
        "   print (\"El fin del intervalo debe ser mayor al inicio\")\n",
        "else :\n",
        "   for i in range(intervalo,intervalo2):\n",
        "    print(i)\n",
        "\n"
      ],
      "metadata": {
        "colab": {
          "base_uri": "https://localhost:8080/"
        },
        "id": "et69s6ABNImR",
        "outputId": "a81d06b2-8f0e-47fb-c2d7-0b9afac778a8"
      },
      "execution_count": null,
      "outputs": [
        {
          "output_type": "stream",
          "name": "stdout",
          "text": [
            "Defina el inicio de la muestra5\n",
            "Defina el fin de la muestra1\n",
            "El fin del intervalo debe ser mayor al inicio\n"
          ]
        }
      ]
    },
    {
      "cell_type": "code",
      "source": [
        "\n",
        "for i in range(10):\n",
        "  print(i)"
      ],
      "metadata": {
        "id": "9ajQXCtAQEk9",
        "outputId": "c2a0ca42-e8ad-4419-ee87-19e02c11221a",
        "colab": {
          "base_uri": "https://localhost:8080/"
        }
      },
      "execution_count": null,
      "outputs": [
        {
          "output_type": "stream",
          "name": "stdout",
          "text": [
            "0\n",
            "1\n",
            "2\n",
            "3\n",
            "4\n",
            "5\n",
            "6\n",
            "7\n",
            "8\n",
            "9\n"
          ]
        }
      ]
    },
    {
      "cell_type": "code",
      "source": [
        "altura= float (input  (\"Ingrese su altura en metros\"))\n",
        "imc= 24\n",
        "altura2= altura*2\n",
        "peso= imc*altura2; print (\"Su peso ideal es de \", peso)"
      ],
      "metadata": {
        "id": "Y0PezsynJxck",
        "outputId": "3b7371fb-7c00-4c71-caec-5ffbe79f5694",
        "colab": {
          "base_uri": "https://localhost:8080/"
        }
      },
      "execution_count": null,
      "outputs": [
        {
          "output_type": "stream",
          "name": "stdout",
          "text": [
            "Ingrese su altura en metros1.70\n",
            "Su peso ideal es de  81.6\n"
          ]
        }
      ]
    },
    {
      "cell_type": "code",
      "source": [
        "name= input (\"Ingrese su nombre \"); print (\"Hola \", name)"
      ],
      "metadata": {
        "id": "3u8FoCk-JTWj",
        "outputId": "4baa5cdc-1b46-458d-ce55-54d0c9d488f5",
        "colab": {
          "base_uri": "https://localhost:8080/"
        }
      },
      "execution_count": null,
      "outputs": [
        {
          "output_type": "stream",
          "name": "stdout",
          "text": [
            "Ingrese su nombre Daiany\n",
            "Hola  Daiany\n"
          ]
        }
      ]
    },
    {
      "cell_type": "code",
      "source": [
        "print (\"hola mundo\")"
      ],
      "metadata": {
        "id": "Kf0TyD_rHvxK",
        "outputId": "f62cc32c-fe2d-424a-a501-33a5c76989f7",
        "colab": {
          "base_uri": "https://localhost:8080/"
        }
      },
      "execution_count": null,
      "outputs": [
        {
          "output_type": "stream",
          "name": "stdout",
          "text": [
            "hola mundo\n"
          ]
        }
      ]
    }
  ],
  "metadata": {
    "colab": {
      "collapsed_sections": [],
      "toc_visible": true,
      "provenance": [],
      "include_colab_link": true
    },
    "kernelspec": {
      "display_name": "Python 3",
      "name": "python3"
    }
  },
  "nbformat": 4,
  "nbformat_minor": 0
}