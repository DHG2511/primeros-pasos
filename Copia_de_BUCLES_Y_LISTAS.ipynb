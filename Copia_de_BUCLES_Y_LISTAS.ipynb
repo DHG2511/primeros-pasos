{
  "nbformat": 4,
  "nbformat_minor": 0,
  "metadata": {
    "colab": {
      "provenance": [],
      "include_colab_link": true
    },
    "kernelspec": {
      "name": "python3",
      "display_name": "Python 3"
    },
    "language_info": {
      "name": "python"
    }
  },
  "cells": [
    {
      "cell_type": "markdown",
      "metadata": {
        "id": "view-in-github",
        "colab_type": "text"
      },
      "source": [
        "<a href=\"https://colab.research.google.com/github/DHG2511/primeros-pasos/blob/main/Copia_de_BUCLES_Y_LISTAS.ipynb\" target=\"_parent\"><img src=\"https://colab.research.google.com/assets/colab-badge.svg\" alt=\"Open In Colab\"/></a>"
      ]
    },
    {
      "cell_type": "code",
      "execution_count": null,
      "metadata": {
        "colab": {
          "base_uri": "https://localhost:8080/"
        },
        "id": "I4grjmhXaqJL",
        "outputId": "7b30960b-206e-4b98-e90e-693d32d81523"
      },
      "outputs": [
        {
          "output_type": "stream",
          "name": "stdout",
          "text": [
            "ingrese la cantidad de materias: 4\n",
            "ingrese el nombre de la materia 1: fisica\n",
            "ingrese el nombre de la materia 2: calculo\n",
            "ingrese el nombre de la materia 3: prog aplicada\n",
            "ingrese el nombre de la materia 4: etica\n",
            "['fisica', 'calculo', 'prog aplicada', 'etica']\n",
            "ingrese la nota que espera de fisica: 5\n",
            "ingrese la nota que espera de calculo: 4.2\n",
            "ingrese la nota que espera de prog aplicada: 5\n",
            "ingrese la nota que espera de etica: 2.3\n",
            "[5.0, 4.2, 5.0, 2.3]\n",
            "Materias aprobadas:  ['fisica', 'calculo', 'prog aplicada']\n",
            "Materias reprobadas:  ['etica']\n"
          ]
        }
      ],
      "source": [
        "#lista de materias\n",
        "\n",
        "listamaterias=[]\n",
        "num_materias=int(input('ingrese la cantidad de materias: '))\n",
        "for i in range(num_materias):\n",
        "  materia=input('ingrese el nombre de la materia '+ str(i+1) + \": \")\n",
        "  listamaterias.append(materia)\n",
        "print(listamaterias)\n",
        "\n",
        "#notas esperadas para las materias\n",
        "\n",
        "Notas= []\n",
        "for i in range(len(listamaterias)):\n",
        "  while True:\n",
        "    nota=float(input(\"ingrese la nota que espera de \" + listamaterias[i]+ \": \"))\n",
        "    if nota>5 or nota<0:\n",
        "      print(\"No es una nota valida\")\n",
        "    else:\n",
        "      Notas.append(nota)\n",
        "      break\n",
        "print(Notas)\n",
        "\n",
        "#materias aprobadas o reprobadas\n",
        "\n",
        "aprobadas= []\n",
        "reprobadas= []\n",
        "\n",
        "for i in range(len(listamaterias)):\n",
        "  if Notas[i]<3:\n",
        "    reprobadas.append(listamaterias[i])\n",
        "  else:\n",
        "    aprobadas.append(listamaterias[i])\n",
        "   \n",
        "print(\"Materias aprobadas: \", aprobadas)\n",
        "print(\"Materias reprobadas: \", reprobadas)\n"
      ]
    },
    {
      "cell_type": "code",
      "source": [
        "#https://misfragmentosdecodigo.eu/palindromos-con-python/\n",
        "\n",
        "igual, aux = 0, 0\n",
        "texto = input(\"Ingrese la palabra que desea evaluar: \")\n",
        "for i in reversed(range(0, len(texto))):\n",
        "\n",
        "  if len(texto) == igual:\n",
        "     print(\"El texto es palindromo!\")\n",
        "  else:\n",
        "    print(\"El texto no es palindromo!\")"
      ],
      "metadata": {
        "colab": {
          "base_uri": "https://localhost:8080/"
        },
        "id": "YylosH3EqCFv",
        "outputId": "b043eaec-64b5-44ba-fa02-73b051c1bbac"
      },
      "execution_count": null,
      "outputs": [
        {
          "output_type": "stream",
          "name": "stdout",
          "text": [
            "Ingrese la palabra que desea evaluar: anita lava la tina\n",
            "El texto no es palindromo!\n",
            "El texto no es palindromo!\n",
            "El texto no es palindromo!\n",
            "El texto no es palindromo!\n",
            "El texto no es palindromo!\n",
            "El texto no es palindromo!\n",
            "El texto no es palindromo!\n",
            "El texto no es palindromo!\n",
            "El texto no es palindromo!\n",
            "El texto no es palindromo!\n",
            "El texto no es palindromo!\n",
            "El texto no es palindromo!\n",
            "El texto no es palindromo!\n",
            "El texto no es palindromo!\n",
            "El texto no es palindromo!\n",
            "El texto no es palindromo!\n",
            "El texto no es palindromo!\n",
            "El texto no es palindromo!\n"
          ]
        }
      ]
    },
    {
      "cell_type": "code",
      "source": [
        "import numpy as np\n",
        "\n",
        "v1str= input(\"ingrese los valores del vector 1 separados por comas \")\n",
        "v1=v1str.split(\",\")\n",
        "v1=[float(element)for element in v1]\n",
        "print( v1 )\n",
        "v2str= input(\"ingrese los valores del vector 2 separados por comas \")\n",
        "v2=v2str.split(\",\")\n",
        "v2=[float(element)for element in v2]\n",
        "print( v2 )\n",
        "res= np.dot(v1,v2)\n",
        "print(res)\n"
      ],
      "metadata": {
        "id": "GUnIqdpGJm1b",
        "outputId": "f0c4faee-6d65-4554-d5bb-756f41820be3",
        "colab": {
          "base_uri": "https://localhost:8080/"
        }
      },
      "execution_count": null,
      "outputs": [
        {
          "output_type": "stream",
          "name": "stdout",
          "text": [
            "ingrese los valores del vector 1 separados por comas 5,4,5\n",
            "[5.0, 4.0, 5.0]\n",
            "ingrese los valores del vector 2 separados por comas 7,2,5\n",
            "[7.0, 2.0, 5.0]\n",
            "68.0\n"
          ]
        }
      ]
    },
    {
      "cell_type": "code",
      "source": [
        "#ingresar valor o fin59\n",
        "import numpy as np\n",
        "lista=[]\n",
        "while True:\n",
        "  val= input(\"ingrese un valor cualquiera o para finalizar ingrese FIN: \" )\n",
        "  if val.lower() == \"fin\":\n",
        "        break\n",
        "  else: \n",
        "      lista.append(float(val))\n",
        "m= np.mean(lista)\n",
        "std= n78p.std(lista)\n",
        "\n",
        "print(\"Media: \", m)\n",
        "print(\"Desviacion:8 \" , std)"
      ],
      "metadata": {
        "colab": {
          "base_uri": "https://localhost:8080/",
          "height": 287
        },
        "id": "lECby011YPa5",
        "outputId": "cbdb1639-9183-4251-982f-7ca552cf100e"
      },
      "execution_count": 13,
      "outputs": [
        {
          "name": "stdout",
          "output_type": "stream",
          "text": [
            "ingrese un valor cualquiera o para finalizar ingrese FIN: 4\n",
            "ingrese un valor cualquiera o para finalizar ingrese FIN: 8\n",
            "ingrese un valor cualquiera o para finalizar ingrese FIN: \n"
          ]
        },
        {
          "output_type": "error",
          "ename": "ValueError",
          "evalue": "ignored",
          "traceback": [
            "\u001b[0;31m---------------------------------------------------------------------------\u001b[0m",
            "\u001b[0;31mValueError\u001b[0m                                Traceback (most recent call last)",
            "\u001b[0;32m<ipython-input-13-a1d87069506c>\u001b[0m in \u001b[0;36m<module>\u001b[0;34m\u001b[0m\n\u001b[1;32m      7\u001b[0m         \u001b[0;32mbreak\u001b[0m\u001b[0;34m\u001b[0m\u001b[0;34m\u001b[0m\u001b[0m\n\u001b[1;32m      8\u001b[0m   \u001b[0;32melse\u001b[0m\u001b[0;34m:\u001b[0m\u001b[0;34m\u001b[0m\u001b[0;34m\u001b[0m\u001b[0m\n\u001b[0;32m----> 9\u001b[0;31m       \u001b[0mlista\u001b[0m\u001b[0;34m.\u001b[0m\u001b[0mappend\u001b[0m\u001b[0;34m(\u001b[0m\u001b[0mfloat\u001b[0m\u001b[0;34m(\u001b[0m\u001b[0mval\u001b[0m\u001b[0;34m)\u001b[0m\u001b[0;34m)\u001b[0m\u001b[0;34m\u001b[0m\u001b[0;34m\u001b[0m\u001b[0m\n\u001b[0m\u001b[1;32m     10\u001b[0m \u001b[0mm\u001b[0m\u001b[0;34m=\u001b[0m \u001b[0mnp\u001b[0m\u001b[0;34m.\u001b[0m\u001b[0mmean\u001b[0m\u001b[0;34m(\u001b[0m\u001b[0mlista\u001b[0m\u001b[0;34m)\u001b[0m\u001b[0;34m\u001b[0m\u001b[0;34m\u001b[0m\u001b[0m\n\u001b[1;32m     11\u001b[0m \u001b[0mstd\u001b[0m\u001b[0;34m=\u001b[0m \u001b[0mn78p\u001b[0m\u001b[0;34m.\u001b[0m\u001b[0mstd\u001b[0m\u001b[0;34m(\u001b[0m\u001b[0mlista\u001b[0m\u001b[0;34m)\u001b[0m\u001b[0;34m\u001b[0m\u001b[0;34m\u001b[0m\u001b[0m\n",
            "\u001b[0;31mValueError\u001b[0m: could not convert string to float: "
          ]
        }
      ]
    }
  ]
}